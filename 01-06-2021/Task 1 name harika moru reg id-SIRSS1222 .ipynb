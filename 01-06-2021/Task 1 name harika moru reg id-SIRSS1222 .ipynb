{
 "cells": [
  {
   "cell_type": "markdown",
   "id": "794ee69d",
   "metadata": {},
   "source": [
    "# 1\n"
   ]
  },
  {
   "cell_type": "code",
   "execution_count": 17,
   "id": "92d30ad7",
   "metadata": {},
   "outputs": [
    {
     "name": "stdout",
     "output_type": "stream",
     "text": [
      "enter the no.of rows:5\n",
      "5 5 5 5 5 \n",
      "5 5 5 5 \n",
      "5 5 5 \n",
      "5 5 \n",
      "5 \n"
     ]
    }
   ],
   "source": [
    "n=int(input(\"enter the no.of rows:\"))\n",
    "for row in range(n,0,-1):\n",
    "    for col in range(0,row):\n",
    "        print(n,end=\" \")\n",
    "    print()"
   ]
  },
  {
   "cell_type": "markdown",
   "id": "e625f267",
   "metadata": {},
   "source": [
    "# 2"
   ]
  },
  {
   "cell_type": "code",
   "execution_count": 18,
   "id": "ff7620a8",
   "metadata": {},
   "outputs": [
    {
     "name": "stdout",
     "output_type": "stream",
     "text": [
      "enter the no.of rows:5\n",
      "0 1 2 3 4 5 \n",
      "0 1 2 3 4 \n",
      "0 1 2 3 \n",
      "0 1 2 \n",
      "0 1 \n"
     ]
    }
   ],
   "source": [
    "n=int(input(\"enter the no.of rows:\"))\n",
    "for row in range(n,0,-1):\n",
    "    for col in range(0,row+1):\n",
    "        print(col,end=\" \")\n",
    "    print()"
   ]
  },
  {
   "cell_type": "markdown",
   "id": "508aebde",
   "metadata": {},
   "source": [
    "# 3"
   ]
  },
  {
   "cell_type": "code",
   "execution_count": 3,
   "id": "1ba46315",
   "metadata": {},
   "outputs": [
    {
     "name": "stdout",
     "output_type": "stream",
     "text": [
      "1 \n",
      "3 3 \n",
      "5 5 5 \n",
      "7 7 7 7 \n",
      "9 9 9 9 9 \n"
     ]
    }
   ],
   "source": [
    "for i in range(1,10,2):\n",
    "    for j in range(0,i,2):\n",
    "        print(i,end=\" \")\n",
    "    print()"
   ]
  },
  {
   "cell_type": "markdown",
   "id": "6b6704c6",
   "metadata": {},
   "source": [
    "# 4"
   ]
  },
  {
   "cell_type": "code",
   "execution_count": 4,
   "id": "a7ee22fc",
   "metadata": {},
   "outputs": [
    {
     "name": "stdout",
     "output_type": "stream",
     "text": [
      "1 \n",
      "2 1 \n",
      "3 2 1 \n",
      "4 3 2 1 \n",
      "5 4 3 2 1 \n"
     ]
    }
   ],
   "source": [
    "for i in range(1,6):\n",
    "    for j in range(i,0,-1):\n",
    "        print(j,end=\" \")\n",
    "    print()"
   ]
  },
  {
   "cell_type": "markdown",
   "id": "21e381fc",
   "metadata": {},
   "source": [
    "# 5"
   ]
  },
  {
   "cell_type": "code",
   "execution_count": 5,
   "id": "020cf26b",
   "metadata": {},
   "outputs": [
    {
     "name": "stdout",
     "output_type": "stream",
     "text": [
      "1 \n",
      "3 2 \n",
      "6 5 4 \n",
      "10 9 8 7 \n"
     ]
    }
   ],
   "source": [
    "start=1\n",
    "stop=2\n",
    "current_num=stop\n",
    "for row in range(2,6):\n",
    "    for col in range(start,stop):\n",
    "        current_num -=1\n",
    "        print(current_num,end=' ')\n",
    "    print(\"\")\n",
    "    start=stop\n",
    "    stop+=row\n",
    "    current_num=stop"
   ]
  },
  {
   "cell_type": "markdown",
   "id": "78ee6ba6",
   "metadata": {},
   "source": [
    "# 6"
   ]
  },
  {
   "cell_type": "code",
   "execution_count": 6,
   "id": "643afb92",
   "metadata": {},
   "outputs": [
    {
     "name": "stdout",
     "output_type": "stream",
     "text": [
      "1 \n",
      "1 1 \n",
      "1 2 1 \n",
      "1 3 3 1 \n",
      "1 4 12 4 1 \n",
      "1 5 20 20 5 1 \n",
      "1 6 30 120 30 6 1 \n"
     ]
    }
   ],
   "source": [
    "def print_pascal_triangle(size):\n",
    "    for i in range(0,size):\n",
    "        for j in range(0,i+1):\n",
    "            print(decide_num(i,j),end=\" \")\n",
    "        print()\n",
    "def decide_num(n,k):\n",
    "    num=1\n",
    "    if k>n-k:\n",
    "        k=n-k\n",
    "    for i in range(0,k):\n",
    "        num=num*(n-i)\n",
    "        num=num\n",
    "    return num\n",
    "rows =7\n",
    "print_pascal_triangle(rows)"
   ]
  },
  {
   "cell_type": "markdown",
   "id": "2da557f4",
   "metadata": {},
   "source": [
    "# 7"
   ]
  },
  {
   "cell_type": "code",
   "execution_count": 7,
   "id": "f85b66ae",
   "metadata": {},
   "outputs": [
    {
     "name": "stdout",
     "output_type": "stream",
     "text": [
      "1 2 3 4 5 \n",
      "2 2 3 4 5 \n",
      "3 3 3 4 5 \n",
      "4 4 4 4 5 \n",
      "5 5 5 5 5 \n"
     ]
    }
   ],
   "source": [
    "rows=5\n",
    "for i in range(1,rows+1):\n",
    "    for j in range(1,rows+1):\n",
    "        if j<= i:\n",
    "            print(i,end=' ')\n",
    "        else:\n",
    "            print(j,end=' ')\n",
    "    print()"
   ]
  },
  {
   "cell_type": "markdown",
   "id": "274550cb",
   "metadata": {},
   "source": [
    "# 8"
   ]
  },
  {
   "cell_type": "code",
   "execution_count": 8,
   "id": "f5ee94f2",
   "metadata": {},
   "outputs": [
    {
     "name": "stdout",
     "output_type": "stream",
     "text": [
      "1 \n",
      "2 4 \n",
      "3 6 9 \n",
      "4 8 12 16 \n",
      "5 10 15 20 25 \n",
      "6 12 18 24 30 36 \n",
      "7 14 21 28 35 42 49 \n",
      "8 16 24 32 40 48 56 64 \n"
     ]
    }
   ],
   "source": [
    "rows=8\n",
    "for i in range(1,rows+1):\n",
    "    for j in range(1,i+1):\n",
    "        square=i*j\n",
    "        print(i*j,end=' ')\n",
    "    print()"
   ]
  },
  {
   "cell_type": "markdown",
   "id": "15dd8680",
   "metadata": {},
   "source": [
    "# 9"
   ]
  },
  {
   "cell_type": "code",
   "execution_count": 9,
   "id": "a4479ee2",
   "metadata": {},
   "outputs": [
    {
     "name": "stdout",
     "output_type": "stream",
     "text": [
      "        * * * * * * \n",
      "         * * * * * \n",
      "          * * * * \n",
      "           * * * \n",
      "            * * \n",
      "             * \n"
     ]
    }
   ],
   "source": [
    "rows = 5\n",
    "k = 2 * rows - 2\n",
    "for i in range(rows,-1,-1):\n",
    "    for j in range(k,0,-1):\n",
    "        print(end=\" \")\n",
    "    k = k + 1\n",
    "    for j in range(0, i + 1):\n",
    "        print(\"*\",end=\" \")\n",
    "    print(\"\")"
   ]
  },
  {
   "cell_type": "markdown",
   "id": "6bc09d40",
   "metadata": {},
   "source": [
    "# 10"
   ]
  },
  {
   "cell_type": "code",
   "execution_count": 10,
   "id": "6e28ec29",
   "metadata": {},
   "outputs": [
    {
     "name": "stdout",
     "output_type": "stream",
     "text": [
      "            *  \n",
      "           * *  \n",
      "          * * *  \n",
      "         * * * *  \n",
      "        * * * * *  \n",
      "       * * * * * *  \n",
      "      * * * * * * *  \n"
     ]
    }
   ],
   "source": [
    "size=7\n",
    "m=(2*size)-2\n",
    "for i in range(0,size):\n",
    "    for j in range(0,m):\n",
    "        print(end=\" \")\n",
    "    m=m-1\n",
    "    for j in range(0,i+1):\n",
    "        print(\"*\",end=' ')\n",
    "    print(\" \")"
   ]
  },
  {
   "cell_type": "markdown",
   "id": "8c03c3ec",
   "metadata": {},
   "source": [
    "# 11"
   ]
  },
  {
   "cell_type": "code",
   "execution_count": 11,
   "id": "be8c16dc",
   "metadata": {},
   "outputs": [
    {
     "name": "stdout",
     "output_type": "stream",
     "text": [
      "*  \n",
      "* *  \n",
      "* * *  \n",
      "* * * *  \n",
      "* * * * *  \n",
      "* * * * * *  \n",
      " \n",
      "* * * * * *  \n",
      "* * * * *  \n",
      "* * * *  \n",
      "* * *  \n",
      "* *  \n",
      "*  \n",
      " \n"
     ]
    }
   ],
   "source": [
    "rows=6\n",
    "for i in range(0,rows):\n",
    "    for j in range(0,i+1):\n",
    "        print(\"*\",end=' ')\n",
    "    print(\" \")\n",
    "print(\" \")\n",
    "for i in range(rows+1,0,-1):\n",
    "    for j in range(0,i-1):\n",
    "        print(\"*\",end=' ')\n",
    "    print(\" \")"
   ]
  },
  {
   "cell_type": "markdown",
   "id": "1083baef",
   "metadata": {},
   "source": [
    "# 12"
   ]
  },
  {
   "cell_type": "code",
   "execution_count": 12,
   "id": "6d7de7af",
   "metadata": {},
   "outputs": [
    {
     "name": "stdout",
     "output_type": "stream",
     "text": [
      "* \r\n",
      "* * \r\n",
      "* * * \r\n",
      "* * * * \r\n",
      "* * * * * \r\n",
      "* * * * \r\n",
      "* * * \r\n",
      "* * \r\n",
      "* \r\n",
      "\r\n"
     ]
    }
   ],
   "source": [
    "rows=5\n",
    "for i in range(0,rows):\n",
    "    for j in range(0,i+1):\n",
    "        print(\"*\",end=' ')\n",
    "    print(\"\\r\")\n",
    "for i in range(rows,0,-1):\n",
    "    for j in range(0,i-1):\n",
    "        print(\"*\",end=' ')\n",
    "    print(\"\\r\")"
   ]
  },
  {
   "cell_type": "markdown",
   "id": "a56f3ac6",
   "metadata": {},
   "source": [
    "# 13"
   ]
  },
  {
   "cell_type": "code",
   "execution_count": 13,
   "id": "7fdaad54",
   "metadata": {},
   "outputs": [
    {
     "name": "stdout",
     "output_type": "stream",
     "text": [
      "        * \n",
      "      * * \n",
      "    * * * \n",
      "  * * * * \n",
      "* * * * * \n",
      "  * * * * \n",
      "    * * * \n",
      "      * * \n",
      "        * \n",
      "          \n"
     ]
    }
   ],
   "source": [
    "rows = 5\n",
    "i = 1\n",
    "while i <= rows:\n",
    "    j = i\n",
    "    while j < rows:\n",
    "        print(' ', end=' ')\n",
    "        j += 1\n",
    "    k = 1\n",
    "    while k <= i:\n",
    "        print('*', end=' ')\n",
    "        k += 1\n",
    "    print()\n",
    "    i += 1\n",
    "i = rows\n",
    "while i >= 1:\n",
    "    j = i\n",
    "    while j <= rows:\n",
    "        print(' ', end=' ')\n",
    "        j += 1\n",
    "    k = 1\n",
    "    while k < i:\n",
    "        print('*', end=' ')\n",
    "        k += 1\n",
    "    print('')\n",
    "    i -= 1"
   ]
  },
  {
   "cell_type": "markdown",
   "id": "d713506b",
   "metadata": {},
   "source": [
    "# 14"
   ]
  },
  {
   "cell_type": "code",
   "execution_count": 14,
   "id": "b6e2c5dd",
   "metadata": {},
   "outputs": [
    {
     "name": "stdout",
     "output_type": "stream",
     "text": [
      "* * * * * \n",
      " * * * * \n",
      "  * * * \n",
      "   * * \n",
      "    * \n",
      "    * \n",
      "   * * \n",
      "  * * * \n",
      " * * * * \n",
      "* * * * * \n"
     ]
    }
   ],
   "source": [
    "rows = 5\n",
    "i = 0\n",
    "while i <= rows - 1:\n",
    "    j = 0\n",
    "    while j < i:\n",
    "        print('', end=' ')\n",
    "        j += 1\n",
    "    k = i\n",
    "    while k <= rows - 1:\n",
    "        print('*', end=' ')\n",
    "        k += 1\n",
    "    print()\n",
    "    i += 1\n",
    "i = rows - 1\n",
    "while i >= 0:\n",
    "    j = 0\n",
    "    while j < i:\n",
    "        print('', end=' ')\n",
    "        j += 1\n",
    "    k = i\n",
    "    while k <= rows - 1:\n",
    "        print('*', end=' ')\n",
    "        k += 1\n",
    "    print('')\n",
    "    i -= 1"
   ]
  },
  {
   "cell_type": "markdown",
   "id": "14127645",
   "metadata": {},
   "source": [
    "# 15"
   ]
  },
  {
   "cell_type": "code",
   "execution_count": 15,
   "id": "509c71fe",
   "metadata": {},
   "outputs": [
    {
     "name": "stdout",
     "output_type": "stream",
     "text": [
      "**************\n",
      "******__******\n",
      "*****____*****\n",
      "****______****\n",
      "***________***\n",
      "**__________**\n",
      "*____________*\n"
     ]
    }
   ],
   "source": [
    "rows = 14\n",
    "print(\"*\" * rows,end=\"\\n\")\n",
    "i = (rows // 2) - 1\n",
    "j = 2\n",
    "while i !=0:\n",
    "    while j <= (rows - 2):\n",
    "        print(\"*\" * i, end=\"\")\n",
    "        print(\"_\" * j, end=\"\")\n",
    "        print(\"*\" * i, end=\"\\n\")\n",
    "        i = i - 1\n",
    "        j = j + 2"
   ]
  }
 ],
 "metadata": {
  "kernelspec": {
   "display_name": "Python 3",
   "language": "python",
   "name": "python3"
  },
  "language_info": {
   "codemirror_mode": {
    "name": "ipython",
    "version": 3
   },
   "file_extension": ".py",
   "mimetype": "text/x-python",
   "name": "python",
   "nbconvert_exporter": "python",
   "pygments_lexer": "ipython3",
   "version": "3.8.8"
  }
 },
 "nbformat": 4,
 "nbformat_minor": 5
}
